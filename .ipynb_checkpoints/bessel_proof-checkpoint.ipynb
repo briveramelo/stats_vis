{
 "cells": [
  {
   "cell_type": "code",
   "execution_count": 1,
   "metadata": {},
   "outputs": [],
   "source": [
    "import pandas as pd\n",
    "from sklearn.datasets import make_gaussian_quantiles\n",
    "import matplotlib.pyplot as plt\n",
    "import numpy as np\n",
    "import seaborn as sns\n",
    "import matplotlib.patches as mpatches"
   ]
  },
  {
   "cell_type": "code",
   "execution_count": 2,
   "metadata": {},
   "outputs": [],
   "source": [
    "np.random.seed(12434)"
   ]
  },
  {
   "cell_type": "code",
   "execution_count": 3,
   "metadata": {},
   "outputs": [
    {
     "ename": "NameError",
     "evalue": "name 'pop_N' is not defined",
     "output_type": "error",
     "traceback": [
      "\u001b[0;31m---------------------------------------------------------------------------\u001b[0m",
      "\u001b[0;31mNameError\u001b[0m                                 Traceback (most recent call last)",
      "\u001b[0;32m<ipython-input-3-df6b213d268d>\u001b[0m in \u001b[0;36m<module>\u001b[0;34m\u001b[0m\n\u001b[0;32m----> 1\u001b[0;31m \u001b[0mpop_N\u001b[0m\u001b[0;34m\u001b[0m\u001b[0;34m\u001b[0m\u001b[0m\n\u001b[0m",
      "\u001b[0;31mNameError\u001b[0m: name 'pop_N' is not defined"
     ]
    }
   ],
   "source": [
    "pop_N = 1000000"
   ]
  },
  {
   "cell_type": "code",
   "execution_count": null,
   "metadata": {},
   "outputs": [],
   "source": [
    "pop_million_points, ignore_classes = make_gaussian_quantiles(n_samples=pop_N, n_features = 2, cov=1, n_classes=1)"
   ]
  },
  {
   "cell_type": "code",
   "execution_count": null,
   "metadata": {},
   "outputs": [],
   "source": [
    "pop_mean = pop_million_points[:,0].mean() # the true population mean"
   ]
  },
  {
   "cell_type": "code",
   "execution_count": null,
   "metadata": {},
   "outputs": [],
   "source": [
    "pop_stdev = np.std(pop_million_points[:,0]) # the true population standard deviation"
   ]
  },
  {
   "cell_type": "code",
   "execution_count": null,
   "metadata": {},
   "outputs": [],
   "source": [
    "num_samples = 1000"
   ]
  },
  {
   "cell_type": "code",
   "execution_count": null,
   "metadata": {},
   "outputs": [],
   "source": [
    "# create 100 samples of size 2,3,10\n",
    "sample2Arr = []\n",
    "sample3Arr = []\n",
    "sample10Arr = []\n",
    "for x in range(num_samples):\n",
    "    rand2 = np.random.choice(range(pop_N), 2, replace=False)\n",
    "    sample2 = np.array([pop_million_points[i] for i in rand2])\n",
    "    sample2Arr.append(sample2)\n",
    "    \n",
    "    rand3 = np.random.choice(range(pop_N), 3, replace=False)\n",
    "    sample3 = np.array([pop_million_points[i] for i in rand3])\n",
    "    sample3Arr.append(sample3)\n",
    "    \n",
    "    rand10 = np.random.choice(range(pop_N), 10, replace=False)\n",
    "    sample10 = np.array([pop_million_points[i] for i in rand10])\n",
    "    sample10Arr.append(sample10)"
   ]
  },
  {
   "cell_type": "code",
   "execution_count": null,
   "metadata": {},
   "outputs": [],
   "source": [
    "plt.figure(figsize=(20,15))\n",
    "plt.scatter(pop_million_points[:,0], pop_million_points[:,1], s=.01, color='cornflowerblue')\n",
    "plt.show()"
   ]
  },
  {
   "cell_type": "code",
   "execution_count": null,
   "metadata": {},
   "outputs": [],
   "source": [
    "sample2Arr = np.array(sample2Arr)\n",
    "sample3Arr = np.array(sample3Arr)\n",
    "sample10Arr = np.array(sample10Arr)"
   ]
  },
  {
   "cell_type": "code",
   "execution_count": null,
   "metadata": {},
   "outputs": [],
   "source": [
    "# get the std.dev for each of the samples using n, n-1 for the calculations\n",
    "sample2Stdn = []\n",
    "sample2Stdnm1 = []\n",
    "\n",
    "sample3Stdn = []\n",
    "sample3Stdnm1 = []\n",
    "\n",
    "sample10Stdn = []\n",
    "sample10Stdnm1 = []\n",
    "for i in range(num_samples):\n",
    "    sample2Stdn.append(np.std(sample2Arr[i][:,0]))\n",
    "    sample2Stdnm1.append(np.std(sample2Arr[i][:,0], ddof=1))\n",
    "    \n",
    "    sample3Stdn.append(np.std(sample3Arr[i][:,0]))\n",
    "    sample3Stdnm1.append(np.std(sample3Arr[i][:,0], ddof=1))\n",
    "    \n",
    "    sample10Stdn.append(np.std(sample10Arr[i][:,0]))\n",
    "    sample10Stdnm1.append(np.std(sample10Arr[i][:,0], ddof=1))"
   ]
  },
  {
   "cell_type": "code",
   "execution_count": null,
   "metadata": {},
   "outputs": [],
   "source": [
    "sample2Stdn = np.array(sample2Stdn)\n",
    "sample2Stdnm1 = np.array(sample2Stdnm1)\n",
    "sample3Stdn = np.array(sample3Stdn)\n",
    "sample3Stdnm1 = np.array(sample3Stdnm1)\n",
    "sample10Stdn = np.array(sample10Stdn)\n",
    "sample10Stdnm1 = np.array(sample10Stdnm1)"
   ]
  },
  {
   "cell_type": "code",
   "execution_count": null,
   "metadata": {},
   "outputs": [],
   "source": [
    "sample2Stdn.mean() - pop_stdev # average of standard deviations about = standard deviation for that sample size"
   ]
  },
  {
   "cell_type": "code",
   "execution_count": null,
   "metadata": {},
   "outputs": [],
   "source": [
    "sample2Stdnm1.mean() - pop_stdev"
   ]
  },
  {
   "cell_type": "code",
   "execution_count": null,
   "metadata": {},
   "outputs": [],
   "source": [
    "sample3Stdn.mean() - pop_stdev"
   ]
  },
  {
   "cell_type": "code",
   "execution_count": null,
   "metadata": {},
   "outputs": [],
   "source": [
    "sample3Stdnm1.mean() - pop_stdev"
   ]
  },
  {
   "cell_type": "code",
   "execution_count": null,
   "metadata": {},
   "outputs": [],
   "source": [
    "sample10Stdn.mean() - pop_stdev"
   ]
  },
  {
   "cell_type": "code",
   "execution_count": null,
   "metadata": {},
   "outputs": [],
   "source": [
    "sample10Stdnm1.mean() - pop_stdev"
   ]
  },
  {
   "cell_type": "code",
   "execution_count": null,
   "metadata": {},
   "outputs": [],
   "source": [
    "plt.figure(figsize=(20,15))\n",
    "plt.title('Standard Deviation of Small Sample Sizes. N vs. N-1, 1000 samples of n=2')\n",
    "\n",
    "sns.distplot(sample2Stdn, color='black')\n",
    "sns.distplot(sample2Stdnm1, color='blue')\n",
    "\n",
    "plt.axvline(x=sample2Stdn.mean(), color='black')\n",
    "plt.axvline(x=sample2Stdnm1.mean(), color='blue')\n",
    "plt.axvline(x=pop_stdev, color='red')\n",
    "\n",
    "black_patch = mpatches.Patch(color='black', label='n=2, divisor=n')\n",
    "blue_patch = mpatches.Patch(color='cornflowerblue', label='n=2, divisor=n-1')\n",
    "red_patch = mpatches.Patch(color='red', label='true population std dev')\n",
    "\n",
    "plt.legend(handles=[black_patch, blue_patch, red_patch])\n",
    "\n",
    "plt.show()"
   ]
  },
  {
   "cell_type": "code",
   "execution_count": null,
   "metadata": {},
   "outputs": [],
   "source": [
    "plt.figure(figsize=(20,15))\n",
    "plt.title('Standard Deviation of Small Sample Sizes. N vs. N-1, 1000 samples of n=3')\n",
    "\n",
    "sns.distplot(sample3Stdn, color='black')\n",
    "sns.distplot(sample3Stdnm1, color='orange')\n",
    "\n",
    "plt.axvline(x=sample3Stdn.mean(), color='black')\n",
    "plt.axvline(x=sample3Stdnm1.mean(), color='orange')\n",
    "plt.axvline(x=pop_stdev, color='red')\n",
    "\n",
    "black_patch = mpatches.Patch(color='black', label='n=3, divisor=n')\n",
    "orange_patch = mpatches.Patch(color='orange', label='n=3, divisor=n-1')\n",
    "red_patch = mpatches.Patch(color='red', label='true population std dev')\n",
    "\n",
    "plt.legend(handles=[black_patch, orange_patch, red_patch])\n",
    "\n",
    "plt.show()"
   ]
  },
  {
   "cell_type": "code",
   "execution_count": null,
   "metadata": {},
   "outputs": [],
   "source": [
    "plt.figure(figsize=(20,15))\n",
    "plt.title('Standard Deviation of Small Sample Sizes. N vs. N-1, 1000 samples of n=10')\n",
    "\n",
    "sns.distplot(sample3Stdn, color='black')\n",
    "sns.distplot(sample3Stdnm1, color='orange')\n",
    "\n",
    "plt.axvline(x=sample3Stdn.mean(), color='black')\n",
    "plt.axvline(x=sample3Stdnm1.mean(), color='orange')\n",
    "plt.axvline(x=pop_stdev, color='red')\n",
    "\n",
    "black_patch = mpatches.Patch(color='black', label='n=3, divisor=n')\n",
    "orange_patch = mpatches.Patch(color='orange', label='n=3, divisor=n-1')\n",
    "red_patch = mpatches.Patch(color='red', label='true population std dev')\n",
    "\n",
    "plt.legend(handles=[black_patch, orange_patch, red_patch])\n",
    "\n",
    "plt.show()"
   ]
  },
  {
   "cell_type": "code",
   "execution_count": null,
   "metadata": {},
   "outputs": [],
   "source": [
    "plt.figure(figsize=(20,9))\n",
    "sns.distplot(pop_million_points[:,0])\n",
    "plt.show()"
   ]
  },
  {
   "cell_type": "code",
   "execution_count": null,
   "metadata": {},
   "outputs": [],
   "source": [
    "plt.figure(figsize=(20,9))\n",
    "plt.scatter(pop_million_points[:,0], np.zeros(pop_N), s=.01)\n",
    "plt.show()"
   ]
  }
 ],
 "metadata": {
  "kernelspec": {
   "display_name": "Python 3",
   "language": "python",
   "name": "python3"
  },
  "language_info": {
   "codemirror_mode": {
    "name": "ipython",
    "version": 3
   },
   "file_extension": ".py",
   "mimetype": "text/x-python",
   "name": "python",
   "nbconvert_exporter": "python",
   "pygments_lexer": "ipython3",
   "version": "3.9.0"
  },
  "toc": {
   "base_numbering": 1,
   "nav_menu": {},
   "number_sections": true,
   "sideBar": true,
   "skip_h1_title": false,
   "title_cell": "Table of Contents",
   "title_sidebar": "Contents",
   "toc_cell": false,
   "toc_position": {},
   "toc_section_display": true,
   "toc_window_display": false
  }
 },
 "nbformat": 4,
 "nbformat_minor": 4
}
